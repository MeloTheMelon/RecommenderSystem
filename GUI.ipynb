{
 "cells": [
  {
   "cell_type": "code",
   "execution_count": 1,
   "metadata": {},
   "outputs": [
    {
     "data": {
      "application/vnd.jupyter.widget-view+json": {
       "model_id": "eca663ce43e34539a113e66693c883f5",
       "version_major": 2,
       "version_minor": 0
      },
      "text/plain": [
       "Button(description='Load Data', disabled=True, style=ButtonStyle())"
      ]
     },
     "metadata": {},
     "output_type": "display_data"
    },
    {
     "data": {
      "application/vnd.jupyter.widget-view+json": {
       "model_id": "286be0270a1e4a2e82311a19ee3f9a10",
       "version_major": 2,
       "version_minor": 0
      },
      "text/plain": [
       "RadioButtons(description='Compare', options=('Users', 'Movies'), style=DescriptionStyle(description_width='ini…"
      ]
     },
     "metadata": {},
     "output_type": "display_data"
    },
    {
     "data": {
      "application/vnd.jupyter.widget-view+json": {
       "model_id": "06fd49d8aefb484e9af5510cf39400be",
       "version_major": 2,
       "version_minor": 0
      },
      "text/plain": [
       "BoundedIntText(value=8, description='UserID:', max=942, min=1)"
      ]
     },
     "metadata": {},
     "output_type": "display_data"
    },
    {
     "data": {
      "application/vnd.jupyter.widget-view+json": {
       "model_id": "aafc40e3b0c846998754f1b30351abdc",
       "version_major": 2,
       "version_minor": 0
      },
      "text/plain": [
       "Dropdown(description='Target Movie:', disabled=True, options=('Toy Story', 'GoldenEye', 'Four Rooms', 'Get Sho…"
      ]
     },
     "metadata": {},
     "output_type": "display_data"
    },
    {
     "data": {
      "application/vnd.jupyter.widget-view+json": {
       "model_id": "cf6b2c92583e4258b62530dcf3e9508e",
       "version_major": 2,
       "version_minor": 0
      },
      "text/plain": [
       "RadioButtons(description='Recommend', options=('Movies', 'Users'), style=DescriptionStyle(description_width='i…"
      ]
     },
     "metadata": {},
     "output_type": "display_data"
    },
    {
     "data": {
      "application/vnd.jupyter.widget-view+json": {
       "model_id": "fb94f47c52c94ac0952913af80784eff",
       "version_major": 2,
       "version_minor": 0
      },
      "text/plain": [
       "RadioButtons(description='Compare Movies By', options=('Genres', 'Users'), style=DescriptionStyle(description_…"
      ]
     },
     "metadata": {},
     "output_type": "display_data"
    },
    {
     "data": {
      "application/vnd.jupyter.widget-view+json": {
       "model_id": "736c08a7637d445886b7ed639b7a770f",
       "version_major": 2,
       "version_minor": 0
      },
      "text/plain": [
       "BoundedIntText(value=5, description='Amount:', max=20, min=1, style=DescriptionStyle(description_width='initia…"
      ]
     },
     "metadata": {},
     "output_type": "display_data"
    },
    {
     "data": {
      "application/vnd.jupyter.widget-view+json": {
       "model_id": "248bb2cd96c846a6a5ab8b3da1c947f4",
       "version_major": 2,
       "version_minor": 0
      },
      "text/plain": [
       "Dropdown(description='Similarity Function', index=3, options=('Euclidean', 'Cosine', 'Pearson', 'Jaccard', 'Ma…"
      ]
     },
     "metadata": {},
     "output_type": "display_data"
    },
    {
     "data": {
      "application/vnd.jupyter.widget-view+json": {
       "model_id": "c3a3aae3019c48f38976c0188b23e18c",
       "version_major": 2,
       "version_minor": 0
      },
      "text/plain": [
       "Button(description='Calculating', disabled=True, style=ButtonStyle())"
      ]
     },
     "metadata": {},
     "output_type": "display_data"
    },
    {
     "data": {
      "application/vnd.jupyter.widget-view+json": {
       "model_id": "0d708a8e4e4743c2873e2305b2b08c39",
       "version_major": 2,
       "version_minor": 0
      },
      "text/plain": [
       "Textarea(value='187\\nVegas Vacation\\nThe Sixth Man\\nThe Substitute\\nAbsolute Power\\n', description='Recommenda…"
      ]
     },
     "metadata": {},
     "output_type": "display_data"
    }
   ],
   "source": [
    "import LoadData\n",
    "import Similarity\n",
    "from ipywidgets import widgets, Layout\n",
    "from IPython.display import clear_output #Used to clear the output\n",
    "\n",
    "#All the Gui Elements\n",
    "style = {'description_width': 'initial'}\n",
    "loadDataButton = widgets.Button(description = \"Load Data\", disabled = False, style = style)\n",
    "compMoviesOrUsers = widgets.RadioButtons(options=['Users', 'Movies'], description = 'Compare', diabled = True, style = style)\n",
    "userIDText = widgets.BoundedIntText(min=1,max=10,step=1,description='UserID:',disabled=True, )\n",
    "movieNameDropdown = widgets.Dropdown(options=[], description = 'Target Movie:', disabled = True, style = style)\n",
    "recMovieOrUserRadio = widgets.RadioButtons(options=['Movies', 'Users'],description='Recommend',disabled=True, style = style)\n",
    "compareMoviesByRadio = widgets.RadioButtons(options=['Genres', 'Users'],description='Compare Movies By',disabled=True, style = style)\n",
    "amountText = widgets.BoundedIntText(min=1,max=20,step=1,description='Amount:',disabled=True, style = style)\n",
    "simFunc = widgets.Dropdown(options=['Euclidean', 'Cosine', 'Pearson', 'Jaccard', 'Manhatten', 'Custom'],description='Similarity Function',disabled=False, style = style)\n",
    "calculateButton = widgets.Button(description = \"Start\", disabled = True, style = style)\n",
    "results = widgets.Textarea(value='',description='Recommendations',disabled=True, style = style, layout = Layout(width = '50%', height = '200px'))\n",
    "\n",
    "\n",
    "#DataSets:\n",
    "\n",
    "userData = None\n",
    "movieData = None\n",
    "\n",
    "#GUI Functions\n",
    "\n",
    "def onLoadButtonClicked(b):\n",
    "    \n",
    "    global userData\n",
    "    global movieData\n",
    "    \n",
    "    data = LoadData.loadData()\n",
    "    userData = data[0]\n",
    "    userData.sort(key = lambda x: int(x.getID()))\n",
    "    movieData = data[1]\n",
    "    tempList = list()\n",
    "    for movie in movieData:\n",
    "        tempList.append(movie.getName())\n",
    "    movieNameDropdown.options = tuple(tempList)\n",
    "    userIDText.max = len(userData) -1\n",
    "    loadDataButton.disabled = True\n",
    "    enableMainGUI(True)\n",
    "\n",
    "loadDataButton.on_click(onLoadButtonClicked)\n",
    "\n",
    "\n",
    "\n",
    "def onCalcButtonClicked(b):\n",
    "    \n",
    "    calculateButton.disabled = True\n",
    "    calculateButton.description = \"Calculating\"\n",
    "    \n",
    "    recMovies = False\n",
    "    target = None\n",
    "    \n",
    "    if compMoviesOrUsers.value == 'Movies':\n",
    "        recMovies = True\n",
    "        targetName = movieNameDropdown.value\n",
    "        for movie in movieData:\n",
    "            if movie.getName() == targetName:\n",
    "                target = movie\n",
    "                break\n",
    "    else:\n",
    "        target = userData[int(userIDText.value)-1]\n",
    "    \n",
    "    compMoviesBy = True\n",
    "    if compareMoviesByRadio.value == 'Users':\n",
    "        compMoviesBy = False\n",
    "    simFuncVal = 0\n",
    "    if simFunc.value == 'Cosine':\n",
    "        simFuncVal = 1\n",
    "    elif simFunc.value == \"Pearson\":\n",
    "        simFuncVal = 2\n",
    "    elif simFunc.value == 'Jaccard':\n",
    "        simFuncVal = 3\n",
    "    elif simFunc.value == 'Manhatten':\n",
    "        simFuncVal = 4\n",
    "        \n",
    "    recUsers = False\n",
    "    if recMovieOrUserRadio.value == 'Users':\n",
    "        recUsers = True\n",
    "        \n",
    "    if simFunc.value == 'Custom':       \n",
    "        rec  = Similarity.customSimilarity(target, userData, movieData, int(amountText.value), recUsers)\n",
    "    else:\n",
    "        if recMovies:\n",
    "            rec = Similarity.similarMovies(target, movieData, int(amountText.value), simFuncVal, compMoviesBy)\n",
    "        else:\n",
    "            rec = Similarity.recommendMovies(target, userData, movieData, int(amountText.value), simFuncVal, compMoviesBy, recUsers)\n",
    "    \n",
    "    tempString = \"\"\n",
    "    for recommendation in rec:\n",
    "        tempString += recommendation[0] + \"\\n\"\n",
    "    \n",
    "    results.value = tempString\n",
    "    displayGUI()\n",
    "    display(results)\n",
    "    calculateButton.disabled = False\n",
    "    calculateButton.description = \"Start\"\n",
    "    \n",
    "calculateButton.on_click(onCalcButtonClicked)\n",
    "\n",
    "def onTraitChangeCompMovieOrUserRadio(change):\n",
    "    pos = change['new']\n",
    "    if int(pos) == 1:\n",
    "        userIDText.disabled = True\n",
    "        recMovieOrUserRadio.disabled = True\n",
    "        movieNameDropdown.disabled = False\n",
    "        simFunc.options = ['Euclidean', 'Cosine', 'Pearson', 'Jaccard', 'Manhatten']\n",
    "    if int(pos) == 0:\n",
    "        userIDText.disabled = False\n",
    "        recMovieOrUserRadio.disabled = False\n",
    "        movieNameDropdown.disabled = True\n",
    "        simFunc.options = ['Euclidean', 'Cosine', 'Pearson', 'Jaccard', 'Manhatten', 'Custom']\n",
    "        \n",
    "compMoviesOrUsers.observe(onTraitChangeCompMovieOrUserRadio, names='index')\n",
    "\n",
    "def onTraitChangeRecMovieOrUserRadio(change):\n",
    "    pos = change['new']\n",
    "    if int(pos) == 0:\n",
    "        compareMoviesByRadio.disabled = False\n",
    "    else:\n",
    "        compareMoviesByRadio.disabled = True\n",
    "    \n",
    "recMovieOrUserRadio.observe(onTraitChangeRecMovieOrUserRadio, names='index')\n",
    "\n",
    "def displayGUI():\n",
    "    clear_output()\n",
    "    display(loadDataButton)\n",
    "    display(compMoviesOrUsers)\n",
    "    display(userIDText)\n",
    "    display(movieNameDropdown)\n",
    "    display(recMovieOrUserRadio)\n",
    "    display(compareMoviesByRadio)\n",
    "    display(amountText)\n",
    "    display(simFunc)\n",
    "    display(calculateButton)\n",
    "    \n",
    "\n",
    "def enableMainGUI(enable = True):\n",
    "    compMoviesOrUsers.disabled = not enable\n",
    "    userIDText.disabled = not enable\n",
    "    movieNameDropdown.disabled = not enable\n",
    "    recMovieOrUserRadio.disabled = not enable\n",
    "    compareMoviesByRadio.disabled = not enable\n",
    "    amountText.disabled = not enable\n",
    "    simFunc.disabled = not enable\n",
    "    calculateButton.disabled = not enable\n",
    "    if compMoviesOrUsers.value == 'Users':\n",
    "        movieNameDropdown.disabled = True\n",
    "    displayGUI()\n",
    "    \n",
    "#Load Data\n",
    "display(loadDataButton)\n",
    "\n",
    "\n",
    "\n",
    "\n",
    "\n",
    "\n"
   ]
  },
  {
   "cell_type": "code",
   "execution_count": null,
   "metadata": {},
   "outputs": [],
   "source": []
  }
 ],
 "metadata": {
  "kernelspec": {
   "display_name": "Python 3",
   "language": "python",
   "name": "python3"
  },
  "language_info": {
   "codemirror_mode": {
    "name": "ipython",
    "version": 3
   },
   "file_extension": ".py",
   "mimetype": "text/x-python",
   "name": "python",
   "nbconvert_exporter": "python",
   "pygments_lexer": "ipython3",
   "version": "3.7.4"
  }
 },
 "nbformat": 4,
 "nbformat_minor": 2
}
